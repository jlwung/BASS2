{
 "cells": [
  {
   "cell_type": "code",
   "execution_count": 1,
   "metadata": {},
   "outputs": [],
   "source": [
    "import tensorflow as tf"
   ]
  },
  {
   "cell_type": "code",
   "execution_count": 3,
   "metadata": {},
   "outputs": [
    {
     "name": "stdout",
     "output_type": "stream",
     "text": [
      "Tensor(\"stack_1:0\", shape=(541,), dtype=int32)\n"
     ]
    },
    {
     "ename": "TypeError",
     "evalue": "`Tensor` objects are not iterable when eager execution is not enabled. To iterate over this tensor use `tf.map_fn`.",
     "output_type": "error",
     "traceback": [
      "\u001b[1;31m---------------------------------------------------------------------------\u001b[0m",
      "\u001b[1;31mTypeError\u001b[0m                                 Traceback (most recent call last)",
      "\u001b[1;32m<ipython-input-3-912d92e5b93e>\u001b[0m in \u001b[0;36m<module>\u001b[1;34m()\u001b[0m\n\u001b[0;32m     22\u001b[0m     \u001b[1;32mreturn\u001b[0m \u001b[1;33m[\u001b[0m\u001b[0mfeatures\u001b[0m\u001b[1;33m,\u001b[0m \u001b[0mlabels_onehot\u001b[0m\u001b[1;33m]\u001b[0m\u001b[1;33m\u001b[0m\u001b[0m\n\u001b[0;32m     23\u001b[0m \u001b[1;33m\u001b[0m\u001b[0m\n\u001b[1;32m---> 24\u001b[1;33m \u001b[0mfeatures_train\u001b[0m\u001b[1;33m,\u001b[0m \u001b[0mlabels_train\u001b[0m \u001b[1;33m=\u001b[0m \u001b[0mread_csv\u001b[0m\u001b[1;33m(\u001b[0m\u001b[1;36m100\u001b[0m\u001b[1;33m,\u001b[0m \u001b[1;34m\"data/approve.csv\"\u001b[0m\u001b[1;33m,\u001b[0m \u001b[1;36m541\u001b[0m\u001b[1;33m)\u001b[0m\u001b[1;33m\u001b[0m\u001b[0m\n\u001b[0m\u001b[0;32m     25\u001b[0m \u001b[1;33m\u001b[0m\u001b[0m\n\u001b[0;32m     26\u001b[0m \u001b[0mprint\u001b[0m\u001b[1;33m(\u001b[0m\u001b[0mfeatures_train\u001b[0m\u001b[1;33m)\u001b[0m\u001b[1;33m\u001b[0m\u001b[0m\n",
      "\u001b[1;32m<ipython-input-3-912d92e5b93e>\u001b[0m in \u001b[0;36mread_csv\u001b[1;34m(batch_size, file_name, col_num)\u001b[0m\n\u001b[0;32m     17\u001b[0m                                   \u001b[0mbatch_size\u001b[0m\u001b[1;33m=\u001b[0m\u001b[0mbatch_size\u001b[0m\u001b[1;33m,\u001b[0m\u001b[1;33m\u001b[0m\u001b[0m\n\u001b[0;32m     18\u001b[0m                                   \u001b[0mcapacity\u001b[0m\u001b[1;33m=\u001b[0m\u001b[0mbatch_size\u001b[0m \u001b[1;33m*\u001b[0m \u001b[1;36m50\u001b[0m\u001b[1;33m,\u001b[0m\u001b[1;33m\u001b[0m\u001b[0m\n\u001b[1;32m---> 19\u001b[1;33m                                   min_after_dequeue=batch_size * 10) \n\u001b[0m\u001b[0;32m     20\u001b[0m     \u001b[0mid\u001b[0m\u001b[1;33m,\u001b[0m \u001b[0mlabels\u001b[0m\u001b[1;33m,\u001b[0m \u001b[0mfeatures\u001b[0m \u001b[1;33m=\u001b[0m \u001b[0mtf\u001b[0m\u001b[1;33m.\u001b[0m\u001b[0msplit\u001b[0m\u001b[1;33m(\u001b[0m\u001b[0mbatch\u001b[0m\u001b[1;33m,\u001b[0m \u001b[1;33m[\u001b[0m\u001b[1;36m1\u001b[0m\u001b[1;33m,\u001b[0m \u001b[1;36m1\u001b[0m\u001b[1;33m,\u001b[0m \u001b[1;33m-\u001b[0m\u001b[1;36m1\u001b[0m\u001b[1;33m]\u001b[0m\u001b[1;33m,\u001b[0m \u001b[1;36m1\u001b[0m\u001b[1;33m)\u001b[0m\u001b[1;33m\u001b[0m\u001b[0m\n\u001b[0;32m     21\u001b[0m     \u001b[0mlabels_onehot\u001b[0m \u001b[1;33m=\u001b[0m \u001b[0mtf\u001b[0m\u001b[1;33m.\u001b[0m\u001b[0mone_hot\u001b[0m\u001b[1;33m(\u001b[0m\u001b[0mlabels\u001b[0m\u001b[1;33m,\u001b[0m \u001b[1;36m2\u001b[0m\u001b[1;33m)\u001b[0m\u001b[1;33m\u001b[0m\u001b[0m\n",
      "\u001b[1;32mC:\\Anaconda3\\envs\\tensorflow\\lib\\site-packages\\tensorflow\\python\\training\\input.py\u001b[0m in \u001b[0;36mshuffle_batch\u001b[1;34m(tensors, batch_size, capacity, min_after_dequeue, num_threads, seed, enqueue_many, shapes, allow_smaller_final_batch, shared_name, name)\u001b[0m\n\u001b[0;32m   1299\u001b[0m       \u001b[0mallow_smaller_final_batch\u001b[0m\u001b[1;33m=\u001b[0m\u001b[0mallow_smaller_final_batch\u001b[0m\u001b[1;33m,\u001b[0m\u001b[1;33m\u001b[0m\u001b[0m\n\u001b[0;32m   1300\u001b[0m       \u001b[0mshared_name\u001b[0m\u001b[1;33m=\u001b[0m\u001b[0mshared_name\u001b[0m\u001b[1;33m,\u001b[0m\u001b[1;33m\u001b[0m\u001b[0m\n\u001b[1;32m-> 1301\u001b[1;33m       name=name)\n\u001b[0m\u001b[0;32m   1302\u001b[0m \u001b[1;33m\u001b[0m\u001b[0m\n\u001b[0;32m   1303\u001b[0m \u001b[1;33m\u001b[0m\u001b[0m\n",
      "\u001b[1;32mC:\\Anaconda3\\envs\\tensorflow\\lib\\site-packages\\tensorflow\\python\\training\\input.py\u001b[0m in \u001b[0;36m_shuffle_batch\u001b[1;34m(tensors, batch_size, capacity, min_after_dequeue, keep_input, num_threads, seed, enqueue_many, shapes, allow_smaller_final_batch, shared_name, name)\u001b[0m\n\u001b[0;32m    818\u001b[0m   \u001b[0mtensor_list\u001b[0m \u001b[1;33m=\u001b[0m \u001b[0m_as_tensor_list\u001b[0m\u001b[1;33m(\u001b[0m\u001b[0mtensors\u001b[0m\u001b[1;33m)\u001b[0m\u001b[1;33m\u001b[0m\u001b[0m\n\u001b[0;32m    819\u001b[0m   with ops.name_scope(name, \"shuffle_batch\",\n\u001b[1;32m--> 820\u001b[1;33m                       list(tensor_list) + [keep_input]) as name:\n\u001b[0m\u001b[0;32m    821\u001b[0m     \u001b[1;32mif\u001b[0m \u001b[0mcapacity\u001b[0m \u001b[1;33m<=\u001b[0m \u001b[0mmin_after_dequeue\u001b[0m\u001b[1;33m:\u001b[0m\u001b[1;33m\u001b[0m\u001b[0m\n\u001b[0;32m    822\u001b[0m       raise ValueError(\"capacity %d must be bigger than min_after_dequeue %d.\"\n",
      "\u001b[1;32mC:\\Anaconda3\\envs\\tensorflow\\lib\\site-packages\\tensorflow\\python\\framework\\ops.py\u001b[0m in \u001b[0;36m__iter__\u001b[1;34m(self)\u001b[0m\n\u001b[0;32m    398\u001b[0m     \u001b[1;32mif\u001b[0m \u001b[0mcontext\u001b[0m\u001b[1;33m.\u001b[0m\u001b[0min_graph_mode\u001b[0m\u001b[1;33m(\u001b[0m\u001b[1;33m)\u001b[0m\u001b[1;33m:\u001b[0m\u001b[1;33m\u001b[0m\u001b[0m\n\u001b[0;32m    399\u001b[0m       raise TypeError(\n\u001b[1;32m--> 400\u001b[1;33m           \u001b[1;34m\"`Tensor` objects are not iterable when eager execution is not \"\u001b[0m\u001b[1;33m\u001b[0m\u001b[0m\n\u001b[0m\u001b[0;32m    401\u001b[0m           \"enabled. To iterate over this tensor use `tf.map_fn`.\")\n\u001b[0;32m    402\u001b[0m     \u001b[0mshape\u001b[0m \u001b[1;33m=\u001b[0m \u001b[0mself\u001b[0m\u001b[1;33m.\u001b[0m\u001b[0m_shape_tuple\u001b[0m\u001b[1;33m(\u001b[0m\u001b[1;33m)\u001b[0m\u001b[1;33m\u001b[0m\u001b[0m\n",
      "\u001b[1;31mTypeError\u001b[0m: `Tensor` objects are not iterable when eager execution is not enabled. To iterate over this tensor use `tf.map_fn`."
     ]
    }
   ],
   "source": [
    "def read_csv(batch_size, file_name, col_num):\n",
    "    filename_queue = tf.train.string_input_producer([file_name])\n",
    "    reader = tf.TextLineReader(skip_header_lines=1)\n",
    "    key, value = reader.read(filename_queue)\n",
    "    # decode_csv will convert a Tensor from type string (the text line) in\n",
    "    # a tuple of tensor columns with the specified defaults, which also\n",
    "    # sets the data type for each column\n",
    "    decoded = tf.decode_csv(\n",
    "        value,\n",
    "        record_defaults=[[0] for i in range(col_num)])\n",
    "    \n",
    "    cols = tf.stack(decoded)\n",
    "    print(cols)\n",
    "    \n",
    "    # batch actually reads the file and loads \"batch_size\" rows in a single tensor\n",
    "    batch =  tf.train.shuffle_batch(cols,\n",
    "                                  batch_size=batch_size,\n",
    "                                  capacity=batch_size * 50,\n",
    "                                  min_after_dequeue=batch_size * 100) \n",
    "    id, labels, features = tf.split(batch, [1, 1, -1], 1)\n",
    "    labels_onehot = tf.one_hot(labels, 2)\n",
    "    return [features, labels_onehot]\n",
    "\n",
    "features_train, labels_train = read_csv(100, \"data/approve.csv\", 541)\n",
    "\n",
    "print(features_train)\n",
    "print(labels_train)\n",
    "\n",
    "\n",
    "# print(features)\n",
    "# print(labels)"
   ]
  },
  {
   "cell_type": "code",
   "execution_count": null,
   "metadata": {},
   "outputs": [],
   "source": [
    "batch_size = 100\n",
    "min_after_dequeue = 10000\n",
    "capacity = min_after_dequeue + 3 * batch_size\n",
    "    \n",
    "example_batch, label_batch = tf.train.shuffle_batch(\n",
    "        [features, labels], batch_size=batch_size, capacity=capacity,\n",
    "        min_after_dequeue=min_after_dequeue)\n",
    "print(example_batch)\n",
    "print(label_batch)"
   ]
  },
  {
   "cell_type": "code",
   "execution_count": null,
   "metadata": {},
   "outputs": [],
   "source": [
    "\n",
    "#define place holder\n",
    "x = tf.placeholder(tf.float32, [None, 539])\n",
    "y = tf.placeholder(tf.float32, [None, 2])\n",
    "\n",
    "#create a 1-level neural network\n",
    "W = tf.Variable(tf.truncated_normal([539, 2], stddev=0.1))\n",
    "# b = tf.Variable(tf.zeros([2]))\n",
    "b = tf.Variable(tf.zeros([2])+0.1)\n",
    "\n",
    "wx_b = tf.matmul(x, W)+b\n",
    "\n",
    "#激活函数，实现非线性化\n",
    "# prediction = tf.nn.relu(wx_b)\n",
    "# prediction = tf.nn.tanh(wx_b)\n",
    "# prediction = tf.nn.sigmoid(wx_b)\n",
    "prediction = tf.nn.softmax(wx_b)\n",
    "\n",
    "loss = tf.reduce_mean(tf.nn.softmax_cross_entropy_with_logits_v2(labels=y, logits=prediction))\n",
    "# loss = tf.reduce_mean(tf.nn.sigmoid_cross_entropy_with_logits(labels=y, logits=prediction))\n",
    "\n",
    "#train\n",
    "train = tf.train.GradientDescentOptimizer(0.2).minimize(loss)\n",
    "\n",
    "init = tf.global_variables_initializer()\n",
    "\n",
    "#比较预测值与实际值\n",
    "correct_pred = tf.equal(tf.argmax(y, 1), tf.argmax(prediction, 1)) #argmax 返回沿着某个维度最大值的位置\n",
    "`\n",
    "#准确率\n",
    "accuracy = tf.reduce_mean(tf.cast(correct_pred, tf.float32))\n",
    "\n",
    "\n",
    "with tf.Session() as sess:\n",
    "    sess.run(init)\n",
    "    \n",
    "    # Start populating the filename queue.\n",
    "    coord = tf.train.Coordinator()\n",
    "    threads = tf.train.start_queue_runners(coord=coord)\n",
    "\n",
    "    for i in range(1):\n",
    "        # Retrieve a single instance:\n",
    "        batch_xs, batch_ys = sess.run([example_batch, label_batch])\n",
    "        print(batch_xs.shape)\n",
    "        print(batch_xs)\n",
    "    \n",
    "        sess.run(train, feed_dict={x: batch_xs, y: batch_ys})\n",
    "\n",
    "\n",
    "    coord.request_stop()\n",
    "    coord.join(threads)"
   ]
  },
  {
   "cell_type": "code",
   "execution_count": null,
   "metadata": {},
   "outputs": [],
   "source": [
    "x_data = np.linspace(-0.5, 0.5, 200)[:, np.newaxis]\n",
    "noise = np.random.normal(0, 0.02, x_data.shape)\n",
    "y_data = np.square(x_data) + noise\n",
    "\n",
    "print(x_data)"
   ]
  }
 ],
 "metadata": {
  "kernelspec": {
   "display_name": "Python 3",
   "language": "python",
   "name": "python3"
  },
  "language_info": {
   "codemirror_mode": {
    "name": "ipython",
    "version": 3
   },
   "file_extension": ".py",
   "mimetype": "text/x-python",
   "name": "python",
   "nbconvert_exporter": "python",
   "pygments_lexer": "ipython3",
   "version": "3.5.5"
  }
 },
 "nbformat": 4,
 "nbformat_minor": 2
}
