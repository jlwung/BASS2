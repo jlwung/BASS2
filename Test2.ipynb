{
 "cells": [
  {
   "cell_type": "code",
   "execution_count": 1,
   "metadata": {},
   "outputs": [],
   "source": [
    "import tensorflow as tf"
   ]
  },
  {
   "cell_type": "code",
   "execution_count": 3,
   "metadata": {},
   "outputs": [
    {
     "name": "stdout",
     "output_type": "stream",
     "text": [
      "Tensor(\"shuffle_batch:0\", shape=(100, 539), dtype=int32)\n",
      "Tensor(\"shuffle_batch:1\", shape=(100, 2), dtype=float32)\n"
     ]
    }
   ],
   "source": [
    "\n",
    "filename_queue = tf.train.string_input_producer([\"data/train.csv\"])\n",
    "\n",
    "reader = tf.TextLineReader(skip_header_lines=1)\n",
    "key, value = reader.read(filename_queue)\n",
    "\n",
    "# Default values, in case of empty columns. Also specifies the type of the\n",
    "# decoded result.\n",
    "record_defaults = [[1] for i in range(541)]\n",
    "# print(record_defaults)\n",
    "\n",
    "cols = tf.decode_csv(value, record_defaults=record_defaults)\n",
    "print(cols[0])\n",
    "\n",
    "labels = tf.one_hot(cols[1], 2)\n",
    "features = tf.stack(cols[2:])\n",
    "print(labels)\n",
    "print(features)\n",
    "\n",
    "batch_size = 100\n",
    "min_after_dequeue = 10000\n",
    "capacity = min_after_dequeue + 3 * batch_size\n",
    "    \n",
    "example_batch, label_batch = tf.train.shuffle_batch(\n",
    "        [features, labels], batch_size=batch_size, capacity=capacity,\n",
    "        min_after_dequeue=min_after_dequeue)\n",
    "print(example_batch)\n",
    "print(label_batch)"
   ]
  },
  {
   "cell_type": "code",
   "execution_count": 9,
   "metadata": {},
   "outputs": [
    {
     "name": "stdout",
     "output_type": "stream",
     "text": [
      "(100, 539)\n",
      "[[0 0 0 ... 0 0 0]\n",
      " [0 0 0 ... 0 0 0]\n",
      " [0 0 0 ... 0 0 0]\n",
      " ...\n",
      " [0 0 0 ... 0 0 0]\n",
      " [0 0 0 ... 0 0 0]\n",
      " [0 0 1 ... 0 0 0]]\n"
     ]
    }
   ],
   "source": [
    "\n",
    "#define place holder\n",
    "x = tf.placeholder(tf.float32, [None, 539])\n",
    "y = tf.placeholder(tf.float32, [None, 2])\n",
    "\n",
    "#create a 1-level neural network\n",
    "W = tf.Variable(tf.truncated_normal([539, 2], stddev=0.1))\n",
    "# b = tf.Variable(tf.zeros([2]))\n",
    "b = tf.Variable(tf.zeros([2])+0.1)\n",
    "\n",
    "wx_b = tf.matmul(x, W)+b\n",
    "\n",
    "#激活函数，实现非线性化\n",
    "# prediction = tf.nn.relu(wx_b)\n",
    "# prediction = tf.nn.tanh(wx_b)\n",
    "# prediction = tf.nn.sigmoid(wx_b)\n",
    "prediction = tf.nn.softmax(wx_b)\n",
    "\n",
    "loss = tf.reduce_mean(tf.nn.softmax_cross_entropy_with_logits_v2(labels=y, logits=prediction))\n",
    "# loss = tf.reduce_mean(tf.nn.sigmoid_cross_entropy_with_logits(labels=y, logits=prediction))\n",
    "\n",
    "#train\n",
    "train = tf.train.GradientDescentOptimizer(0.2).minimize(loss)\n",
    "\n",
    "init = tf.global_variables_initializer()\n",
    "\n",
    "#比较预测值与实际值\n",
    "correct_pred = tf.equal(tf.argmax(y, 1), tf.argmax(prediction, 1)) #argmax 返回沿着某个维度最大值的位置\n",
    "`\n",
    "#准确率\n",
    "accuracy = tf.reduce_mean(tf.cast(correct_pred, tf.float32))\n",
    "\n",
    "\n",
    "with tf.Session() as sess:\n",
    "    sess.run(init)\n",
    "    \n",
    "    # Start populating the filename queue.\n",
    "    coord = tf.train.Coordinator()\n",
    "    threads = tf.train.start_queue_runners(coord=coord)\n",
    "\n",
    "    for i in range(1):\n",
    "        # Retrieve a single instance:\n",
    "        batch_xs, batch_ys = sess.run([example_batch, label_batch])\n",
    "        print(batch_xs.shape)\n",
    "        print(batch_xs)\n",
    "    \n",
    "        sess.run(train, feed_dict={x: batch_xs, y: batch_ys})\n",
    "\n",
    "\n",
    "    coord.request_stop()\n",
    "    coord.join(threads)"
   ]
  },
  {
   "cell_type": "code",
   "execution_count": null,
   "metadata": {},
   "outputs": [],
   "source": [
    "x_data = np.linspace(-0.5, 0.5, 200)[:, np.newaxis]\n",
    "noise = np.random.normal(0, 0.02, x_data.shape)\n",
    "y_data = np.square(x_data) + noise\n",
    "\n",
    "print(x_data)"
   ]
  }
 ],
 "metadata": {
  "kernelspec": {
   "display_name": "Python 3",
   "language": "python",
   "name": "python3"
  },
  "language_info": {
   "codemirror_mode": {
    "name": "ipython",
    "version": 3
   },
   "file_extension": ".py",
   "mimetype": "text/x-python",
   "name": "python",
   "nbconvert_exporter": "python",
   "pygments_lexer": "ipython3",
   "version": "3.5.5"
  }
 },
 "nbformat": 4,
 "nbformat_minor": 2
}
